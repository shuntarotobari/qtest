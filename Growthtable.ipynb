{
  "nbformat": 4,
  "nbformat_minor": 0,
  "metadata": {
    "colab": {
      "provenance": [],
      "history_visible": true,
      "authorship_tag": "ABX9TyMe9c/gPo+JUFOvK+4PQGYg",
      "include_colab_link": true
    },
    "kernelspec": {
      "name": "python3",
      "display_name": "Python 3"
    },
    "language_info": {
      "name": "python"
    }
  },
  "cells": [
    {
      "cell_type": "markdown",
      "metadata": {
        "id": "view-in-github",
        "colab_type": "text"
      },
      "source": [
        "<a href=\"https://colab.research.google.com/github/shuntarotobari/qtest/blob/main/Growthtable.ipynb\" target=\"_parent\"><img src=\"https://colab.research.google.com/assets/colab-badge.svg\" alt=\"Open In Colab\"/></a>"
      ]
    },
    {
      "cell_type": "code",
      "source": [
        "import pandas as pd\n",
        "\n",
        "# Penn World Table 10.1のデータを読み込む\n",
        "pwt = pd.read_stata('https://www.rug.nl/ggdc/docs/pwt100.dta')\n",
        "\n",
        "# 必要な列と対象年の範囲を指定してデータをフィルタリング\n",
        "countries = ['Australia', 'Austria', 'Belgium', 'Canada', 'Denmark', 'Finland', 'France', 'Germany', 'Greece', 'Iceland', 'Ireland', 'Italy', 'Japan', 'Netherlands', 'New Zealand', 'Norway', 'Portugal', 'Spain', 'Sweden', 'Switzerland', 'United Kingdom', 'United States']\n",
        "data = pwt.loc[pwt['country'].isin(countries)][['year', 'countrycode', 'country', 'rgdpe', 'emp', 'cn', 'labsh']]\n",
        "data = data.loc[(data['year'] >= 1990) & (data['year'] <= 2019)]\n",
        "\n",
        "# 欠損値を0で埋める\n",
        "data = data.fillna(0)\n",
        "\n",
        "# 対象国のリストを作成\n",
        "countries = data['countrycode'].unique()\n",
        "country_names = list(data['country'].unique())\n",
        "\n",
        "# 結果を格納するDataFrameを初期化\n",
        "result = pd.DataFrame(index=country_names + ['Average'], columns=['Growth Rate', 'TFP Growth', 'Capital Deepening', 'TFP Share', 'Capital Share'])\n",
        "\n",
        "for country, name in zip(countries, country_names):\n",
        "    # 国ごとのデータを抽出\n",
        "    country_data = data.loc[data['countrycode'] == country]\n",
        "\n",
        "    # 必要な列を抽出\n",
        "    y = country_data['rgdpe'] / country_data['emp']\n",
        "    k = country_data['cn'] / country_data['emp']\n",
        "    labor_share = country_data['labsh']\n",
        "\n",
        "    # 計算\n",
        "    alpha = 1 - labor_share\n",
        "    growth_rate = (y / y.shift(1)).fillna(0)\n",
        "    tfp_growth = ((y / k**alpha) / (y / k**alpha).shift(1)).fillna(0)\n",
        "    capital_deepening = growth_rate - tfp_growth\n",
        "    tfp_share = tfp_growth / growth_rate\n",
        "    capital_share = 1 - tfp_share\n",
        "\n",
        "    # 結果を代入\n",
        "    result.loc[name, 'Growth Rate'] = growth_rate.mean()\n",
        "    result.loc[name, 'TFP Growth'] = tfp_growth.mean()\n",
        "    result.loc[name, 'Capital Deepening'] = capital_deepening.mean()\n",
        "    result.loc[name, 'TFP Share'] = tfp_share.mean()\n",
        "    result.loc[name, 'Capital Share'] = capital_share.mean()\n",
        "\n",
        "# 平均値を計算して'Average'行に代入\n",
        "result.loc['Average'] = result.mean()\n",
        "\n",
        "print(result)"
      ],
      "metadata": {
        "id": "0x9aLxfxTrwA",
        "outputId": "546d0836-5e03-4e77-ee28-a9278f4bd1d5",
        "colab": {
          "base_uri": "https://localhost:8080/"
        }
      },
      "execution_count": 20,
      "outputs": [
        {
          "output_type": "stream",
          "name": "stdout",
          "text": [
            "               Growth Rate TFP Growth Capital Deepening TFP Share  \\\n",
            "Australia          0.98243   0.957495          0.024934  0.975327   \n",
            "Austria           0.987987   0.958348           0.02964  0.970513   \n",
            "Belgium           0.984657   0.967506          0.017151  0.983642   \n",
            "Canada            0.977876   0.963336          0.014539  0.988417   \n",
            "Switzerland       0.984048   0.985625         -0.001577  1.003561   \n",
            "Germany           0.985307   0.971762          0.013545  0.987756   \n",
            "Denmark            0.99003   0.977625          0.012405  0.988931   \n",
            "Spain             0.987321   0.947209          0.040111  0.959599   \n",
            "Finland           0.986442   0.949172          0.037271  0.966588   \n",
            "France            0.982256   0.976219          0.006036  0.994419   \n",
            "United Kingdom    0.985805   0.983656          0.002149  0.997758   \n",
            "Greece            0.982917   1.009018         -0.026101  1.027372   \n",
            "Ireland            1.01489    0.90933           0.10556  0.905527   \n",
            "Iceland            0.98504   1.046394         -0.061355   1.06392   \n",
            "Italy             0.978931   0.949079          0.029852   0.97059   \n",
            "Japan             0.976128   0.967599          0.008529  0.992491   \n",
            "Netherlands       0.983045   0.959143          0.023903  0.977121   \n",
            "Norway            0.991291   1.006665         -0.015374  1.027279   \n",
            "New Zealand       0.982316   0.973988          0.008328  0.991839   \n",
            "Portugal          0.990302   0.955344          0.034958  0.964987   \n",
            "Sweden            0.990436   0.972562          0.017874  0.984038   \n",
            "United States     0.983482   0.974063           0.00942  0.990317   \n",
            "Average           0.986043   0.970961          0.015082  0.986909   \n",
            "\n",
            "               Capital Share  \n",
            "Australia           0.024673  \n",
            "Austria             0.029487  \n",
            "Belgium             0.016358  \n",
            "Canada              0.011583  \n",
            "Switzerland        -0.003561  \n",
            "Germany             0.012244  \n",
            "Denmark             0.011069  \n",
            "Spain               0.040401  \n",
            "Finland             0.033411  \n",
            "France              0.005581  \n",
            "United Kingdom      0.002242  \n",
            "Greece             -0.027372  \n",
            "Ireland             0.094473  \n",
            "Iceland             -0.06392  \n",
            "Italy                0.02941  \n",
            "Japan               0.007509  \n",
            "Netherlands         0.022879  \n",
            "Norway             -0.027279  \n",
            "New Zealand         0.008161  \n",
            "Portugal            0.035013  \n",
            "Sweden              0.015962  \n",
            "United States       0.009683  \n",
            "Average             0.013091  \n"
          ]
        }
      ]
    }
  ]
}