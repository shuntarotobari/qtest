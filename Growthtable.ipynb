{
  "nbformat": 4,
  "nbformat_minor": 0,
  "metadata": {
    "colab": {
      "provenance": [],
      "history_visible": true,
      "authorship_tag": "ABX9TyNNoTue21CWNs0N1wNgzs4W",
      "include_colab_link": true
    },
    "kernelspec": {
      "name": "python3",
      "display_name": "Python 3"
    },
    "language_info": {
      "name": "python"
    }
  },
  "cells": [
    {
      "cell_type": "markdown",
      "metadata": {
        "id": "view-in-github",
        "colab_type": "text"
      },
      "source": [
        "<a href=\"https://colab.research.google.com/github/shuntarotobari/qtest/blob/main/Growthtable.ipynb\" target=\"_parent\"><img src=\"https://colab.research.google.com/assets/colab-badge.svg\" alt=\"Open In Colab\"/></a>"
      ]
    },
    {
      "cell_type": "code",
      "execution_count": 19,
      "metadata": {
        "colab": {
          "base_uri": "https://localhost:8080/"
        },
        "id": "1_uYihSpyQ89",
        "outputId": "59bfb6e5-1d0c-4a6c-d28f-6ef246ee3920"
      },
      "outputs": [
        {
          "output_type": "stream",
          "name": "stdout",
          "text": [
            "    Country  Growth rate  TFP Growth  Capital Deepening  TFP share  \\\n",
            "AUS     AUS     0.018057    0.056813           0.004195 -28.855717   \n",
            "AUT     AUT     0.030875    0.052312           0.006048  -2.761757   \n",
            "BEL     BEL     0.027483    0.049347           0.001610   3.459938   \n",
            "CAN     CAN     0.015189    0.050220           0.003346   3.035695   \n",
            "CHE     CHE     0.013923    0.034767           0.005893  -4.024617   \n",
            "..      ...          ...         ...                ...        ...   \n",
            "35       35          NaN         NaN                NaN        NaN   \n",
            "36       36          NaN         NaN                NaN        NaN   \n",
            "37       37          NaN         NaN                NaN        NaN   \n",
            "38       38          NaN         NaN                NaN        NaN   \n",
            "39       39          NaN         NaN                NaN        NaN   \n",
            "\n",
            "     Capital share    year  growth_rate  tfp_growth  capital_deepening  \\\n",
            "AUS      29.855717     NaN          NaN         NaN                NaN   \n",
            "AUT       3.761757     NaN          NaN         NaN                NaN   \n",
            "BEL      -2.459938     NaN          NaN         NaN                NaN   \n",
            "CAN      -2.035695     NaN          NaN         NaN                NaN   \n",
            "CHE       5.024617     NaN          NaN         NaN                NaN   \n",
            "..             ...     ...          ...         ...                ...   \n",
            "35             NaN  1995.0     0.015043    0.049264           0.000197   \n",
            "36             NaN  1996.0     0.018377    0.067908          -0.002019   \n",
            "37             NaN  1997.0     0.026231    0.062842           0.002598   \n",
            "38             NaN  1998.0     0.016222    0.064257           0.000811   \n",
            "39             NaN  1999.0     0.018374    0.070095          -0.003590   \n",
            "\n",
            "     tfp_share  capital_share  \n",
            "AUS        NaN            NaN  \n",
            "AUT        NaN            NaN  \n",
            "BEL        NaN            NaN  \n",
            "CAN        NaN            NaN  \n",
            "CHE        NaN            NaN  \n",
            "..         ...            ...  \n",
            "35    9.017398      -8.017398  \n",
            "36    4.466784      -3.466785  \n",
            "37    6.789047      -5.789047  \n",
            "38   26.011755     -25.011755  \n",
            "39    3.132516      -2.132517  \n",
            "\n",
            "[62 rows x 12 columns]\n"
          ]
        }
      ],
      "source": [
        "import pandas as pd\n",
        "\n",
        "# Load data\n",
        "pwt = pd.read_stata('https://www.rug.nl/ggdc/docs/pwt100.dta')\n",
        "\n",
        "# Filter and select relevant variables\n",
        "countries = ['AUS', 'AUT', 'BEL', 'CAN', 'DNK', 'FIN', 'FRA', 'DEU', 'GRC', 'ISL', 'IRL', 'ITA', 'JPN', 'NLD', 'NZL', 'NOR', 'PRT', 'ESP', 'SWE', 'CHE', 'GBR', 'USA']\n",
        "variables = ['countrycode', 'year', 'rgdpna', 'rkna', 'emp', 'avh', 'labsh']\n",
        "data = pwt.loc[(pwt['countrycode'].isin(countries)) & (pwt['year'] >= 1960) & (pwt['year'] <= 2000), variables]\n",
        "\n",
        "# Calculate additional variables\n",
        "data = data.sort_values(['countrycode', 'year'])\n",
        "data['alpha'] = 1 - data['labsh']\n",
        "data['y_n'] = data['rgdpna'] / data['emp']\n",
        "data['hours'] = data['emp'] * data['avh']\n",
        "data['tfp_term'] = data.groupby('countrycode')['rgdpna'].pct_change().shift(-1) / (1 - data['alpha'])\n",
        "data['cap_term'] = (data['rkna'] / data['rgdpna']).groupby(data['countrycode']).pct_change().shift(-1) * (data['alpha'] / (1 - data['alpha']))\n",
        "data = data.dropna()\n",
        "\n",
        "# Calculate growth rates\n",
        "data['growth_rate'] = data.groupby('countrycode')['y_n'].pct_change()\n",
        "data['tfp_growth'] = data['tfp_term']\n",
        "data['capital_deepening'] = data['cap_term']\n",
        "\n",
        "# Calculate tfp_share and capital_share directly\n",
        "data['tfp_share'] = data['tfp_growth'] / data['growth_rate']\n",
        "data['capital_share'] = 1 - data['tfp_share']\n",
        "\n",
        "# Calculate averages\n",
        "averages = data.groupby('year')[['growth_rate', 'tfp_growth', 'capital_deepening', 'tfp_share', 'capital_share']].mean().reset_index()\n",
        "averages = averages.rename(columns={'countrycode': 'Country'})\n",
        "\n",
        "# Print the table\n",
        "result = pd.DataFrame({\n",
        "    'Country': data['countrycode'].unique(),\n",
        "    'Growth rate': data.groupby('countrycode')['growth_rate'].mean(),\n",
        "    'TFP Growth': data.groupby('countrycode')['tfp_growth'].mean(),\n",
        "    'Capital Deepening': data.groupby('countrycode')['capital_deepening'].mean(),\n",
        "    'TFP share': data.groupby('countrycode')['tfp_share'].mean(),\n",
        "    'Capital share': data.groupby('countrycode')['capital_share'].mean()\n",
        "})\n",
        "\n",
        "averages['Country'] = averages.index\n",
        "print(pd.concat([result, averages], sort=False))"
      ]
    }
  ]
}